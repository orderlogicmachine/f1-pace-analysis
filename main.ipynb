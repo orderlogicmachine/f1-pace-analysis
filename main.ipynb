{
 "cells": [
  {
   "cell_type": "markdown",
   "metadata": {},
   "source": [
    "# It's Sunday, the 12th of September, 2021. "
   ]
  },
  {
   "cell_type": "markdown",
   "metadata": {},
   "source": [
    "![Aerial photo of the Autodromo Nazionale Monza](images/autodromo-aerial-photo.jpg)"
   ]
  },
  {
   "cell_type": "markdown",
   "metadata": {},
   "source": [
    "### We're at the *Autodromo Nazionale Monza* (or \"Monza\" for short), just north of Milan, Italy for the Formula 1 Italian Grand Prix.\n",
    "\n",
    "It's already been an eventful weekend: 23-year-old <font color=#0600ef>**Red Bull**</font> prodigy Max Verstappen entered the paddock having taken the lead of the World Driver's Championship (WDC) standings from reigning and 7-time WDC champion and <font color=#00d2be>**Mercedes**</font> lead driver Lewis Hamilton. Verstappen did this in style, winning his home race at the Dutch Grand Prix in Zandvoort, Netherlands a week ago by over 20 seconds - an eternity in a sport usually measured in milliseconds. "
   ]
  },
  {
   "cell_type": "markdown",
   "metadata": {},
   "source": [
    "![Max Verstappen on track at the 2021 Dutch Grand Prix just after winning](images/Fans-celebrate-Max-Verstappens-Dutch-GP-win-planetF1.jpg)"
   ]
  },
  {
   "cell_type": "markdown",
   "metadata": {},
   "source": [
    "Verstappen and Hamilton's championship fight will eventually go right down to the wire, being decided in controversial fashion on the last lap of the last race of this season..."
   ]
  },
  {
   "cell_type": "markdown",
   "metadata": {},
   "source": [
    "![Verstappen versus Hamilton on the last lap of Abu Dhabi 2021](images/Max-Verstappen-overtakes-Lewis-Hamilton-for-the-2021-F1-championship.jpg.webp)"
   ]
  },
  {
   "cell_type": "markdown",
   "metadata": {},
   "source": [
    "...but that's a story for another time. We're here to talk about these guys."
   ]
  },
  {
   "cell_type": "markdown",
   "metadata": {},
   "source": [
    "![Ricciardo and Norris racing on space hoppers](images/lando-and-daniel.jpg)"
   ]
  },
  {
   "cell_type": "markdown",
   "metadata": {},
   "source": [
    "Don't get me wrong, Daniel Ricciardo (left, 32) and Lando Norris (right, 21) are both great drivers. Ricciardo has 7 race wins to his name and managed to best a young Verstappen in their first 2 seasons together at Red Bull - Norris is a promising young talent with a stellar career in the junior series. But in the perpetual technological arms race that is modern Formula 1, a driver can only do what their machinery allows them to do. That's bad news for our heroes because their team, <font color=#ff8700>**McLaren**</font>, are no longer at the top of the pile. They may be the second-oldest active team and have the second-best all-time record (both after their eternal rivals <font color=#dc0000>**Ferrari**</font>), but this sport is completely devoid of sentiment and teams nearly as old and successful as McLaren have fallen into ignominy or even dissolved completely after droughts of success.\n",
    "\n",
    "This season, McLaren's intent is to capitalize on a rare Ferrari off year and usurp their oldest rivals for 3rd place in the World Constructor's Championship (WCC). So far, it isn't going that well. After both Ferrari drivers finished well last week at Zandvoort, McLaren have lost 3rd Place and are trailing by 11.5 points."
   ]
  },
  {
   "cell_type": "code",
   "execution_count": 4,
   "metadata": {},
   "outputs": [],
   "source": [
    "# Let's import the libraries we'll be using:\n",
    "import fastf1 as ff1\n",
    "from fastf1 import plotting\n",
    "from fastf1 import utils\n",
    "\n",
    "import matplotlib.pyplot as plt\n",
    "from matplotlib.pyplot import figure\n",
    "from matplotlib import cm\n",
    "\n",
    "import numpy as np\n",
    "import pandas as pd\n",
    "\n",
    "import requests"
   ]
  },
  {
   "cell_type": "code",
   "execution_count": 5,
   "metadata": {},
   "outputs": [],
   "source": [
    "# Next, we'll enable fastf1's data cache - the library and its API calls move quite a bit of data:\n",
    "ff1.Cache.enable_cache('cache') "
   ]
  },
  {
   "cell_type": "code",
   "execution_count": 6,
   "metadata": {},
   "outputs": [
    {
     "ename": "ConnectionError",
     "evalue": "HTTPSConnectionPool(host='ergast.com', port=443): Max retries exceeded with url: /api/f1/2021/13/constructorStandings.json (Caused by NewConnectionError('<urllib3.connection.HTTPSConnection object at 0x7ff32a6c5e50>: Failed to establish a new connection: [Errno 8] nodename nor servname provided, or not known'))",
     "output_type": "error",
     "traceback": [
      "\u001b[0;31m---------------------------------------------------------------------------\u001b[0m",
      "\u001b[0;31mgaierror\u001b[0m                                  Traceback (most recent call last)",
      "\u001b[0;32m~/opt/anaconda3/lib/python3.9/site-packages/urllib3/connection.py\u001b[0m in \u001b[0;36m_new_conn\u001b[0;34m(self)\u001b[0m\n\u001b[1;32m    173\u001b[0m         \u001b[0;32mtry\u001b[0m\u001b[0;34m:\u001b[0m\u001b[0;34m\u001b[0m\u001b[0;34m\u001b[0m\u001b[0m\n\u001b[0;32m--> 174\u001b[0;31m             conn = connection.create_connection(\n\u001b[0m\u001b[1;32m    175\u001b[0m                 \u001b[0;34m(\u001b[0m\u001b[0mself\u001b[0m\u001b[0;34m.\u001b[0m\u001b[0m_dns_host\u001b[0m\u001b[0;34m,\u001b[0m \u001b[0mself\u001b[0m\u001b[0;34m.\u001b[0m\u001b[0mport\u001b[0m\u001b[0;34m)\u001b[0m\u001b[0;34m,\u001b[0m \u001b[0mself\u001b[0m\u001b[0;34m.\u001b[0m\u001b[0mtimeout\u001b[0m\u001b[0;34m,\u001b[0m \u001b[0;34m**\u001b[0m\u001b[0mextra_kw\u001b[0m\u001b[0;34m\u001b[0m\u001b[0;34m\u001b[0m\u001b[0m\n",
      "\u001b[0;32m~/opt/anaconda3/lib/python3.9/site-packages/urllib3/util/connection.py\u001b[0m in \u001b[0;36mcreate_connection\u001b[0;34m(address, timeout, source_address, socket_options)\u001b[0m\n\u001b[1;32m     71\u001b[0m \u001b[0;34m\u001b[0m\u001b[0m\n\u001b[0;32m---> 72\u001b[0;31m     \u001b[0;32mfor\u001b[0m \u001b[0mres\u001b[0m \u001b[0;32min\u001b[0m \u001b[0msocket\u001b[0m\u001b[0;34m.\u001b[0m\u001b[0mgetaddrinfo\u001b[0m\u001b[0;34m(\u001b[0m\u001b[0mhost\u001b[0m\u001b[0;34m,\u001b[0m \u001b[0mport\u001b[0m\u001b[0;34m,\u001b[0m \u001b[0mfamily\u001b[0m\u001b[0;34m,\u001b[0m \u001b[0msocket\u001b[0m\u001b[0;34m.\u001b[0m\u001b[0mSOCK_STREAM\u001b[0m\u001b[0;34m)\u001b[0m\u001b[0;34m:\u001b[0m\u001b[0;34m\u001b[0m\u001b[0;34m\u001b[0m\u001b[0m\n\u001b[0m\u001b[1;32m     73\u001b[0m         \u001b[0maf\u001b[0m\u001b[0;34m,\u001b[0m \u001b[0msocktype\u001b[0m\u001b[0;34m,\u001b[0m \u001b[0mproto\u001b[0m\u001b[0;34m,\u001b[0m \u001b[0mcanonname\u001b[0m\u001b[0;34m,\u001b[0m \u001b[0msa\u001b[0m \u001b[0;34m=\u001b[0m \u001b[0mres\u001b[0m\u001b[0;34m\u001b[0m\u001b[0;34m\u001b[0m\u001b[0m\n",
      "\u001b[0;32m~/opt/anaconda3/lib/python3.9/socket.py\u001b[0m in \u001b[0;36mgetaddrinfo\u001b[0;34m(host, port, family, type, proto, flags)\u001b[0m\n\u001b[1;32m    953\u001b[0m     \u001b[0maddrlist\u001b[0m \u001b[0;34m=\u001b[0m \u001b[0;34m[\u001b[0m\u001b[0;34m]\u001b[0m\u001b[0;34m\u001b[0m\u001b[0;34m\u001b[0m\u001b[0m\n\u001b[0;32m--> 954\u001b[0;31m     \u001b[0;32mfor\u001b[0m \u001b[0mres\u001b[0m \u001b[0;32min\u001b[0m \u001b[0m_socket\u001b[0m\u001b[0;34m.\u001b[0m\u001b[0mgetaddrinfo\u001b[0m\u001b[0;34m(\u001b[0m\u001b[0mhost\u001b[0m\u001b[0;34m,\u001b[0m \u001b[0mport\u001b[0m\u001b[0;34m,\u001b[0m \u001b[0mfamily\u001b[0m\u001b[0;34m,\u001b[0m \u001b[0mtype\u001b[0m\u001b[0;34m,\u001b[0m \u001b[0mproto\u001b[0m\u001b[0;34m,\u001b[0m \u001b[0mflags\u001b[0m\u001b[0;34m)\u001b[0m\u001b[0;34m:\u001b[0m\u001b[0;34m\u001b[0m\u001b[0;34m\u001b[0m\u001b[0m\n\u001b[0m\u001b[1;32m    955\u001b[0m         \u001b[0maf\u001b[0m\u001b[0;34m,\u001b[0m \u001b[0msocktype\u001b[0m\u001b[0;34m,\u001b[0m \u001b[0mproto\u001b[0m\u001b[0;34m,\u001b[0m \u001b[0mcanonname\u001b[0m\u001b[0;34m,\u001b[0m \u001b[0msa\u001b[0m \u001b[0;34m=\u001b[0m \u001b[0mres\u001b[0m\u001b[0;34m\u001b[0m\u001b[0;34m\u001b[0m\u001b[0m\n",
      "\u001b[0;31mgaierror\u001b[0m: [Errno 8] nodename nor servname provided, or not known",
      "\nDuring handling of the above exception, another exception occurred:\n",
      "\u001b[0;31mNewConnectionError\u001b[0m                        Traceback (most recent call last)",
      "\u001b[0;32m~/opt/anaconda3/lib/python3.9/site-packages/urllib3/connectionpool.py\u001b[0m in \u001b[0;36murlopen\u001b[0;34m(self, method, url, body, headers, retries, redirect, assert_same_host, timeout, pool_timeout, release_conn, chunked, body_pos, **response_kw)\u001b[0m\n\u001b[1;32m    702\u001b[0m             \u001b[0;31m# Make the request on the httplib connection object.\u001b[0m\u001b[0;34m\u001b[0m\u001b[0;34m\u001b[0m\u001b[0m\n\u001b[0;32m--> 703\u001b[0;31m             httplib_response = self._make_request(\n\u001b[0m\u001b[1;32m    704\u001b[0m                 \u001b[0mconn\u001b[0m\u001b[0;34m,\u001b[0m\u001b[0;34m\u001b[0m\u001b[0;34m\u001b[0m\u001b[0m\n",
      "\u001b[0;32m~/opt/anaconda3/lib/python3.9/site-packages/urllib3/connectionpool.py\u001b[0m in \u001b[0;36m_make_request\u001b[0;34m(self, conn, method, url, timeout, chunked, **httplib_request_kw)\u001b[0m\n\u001b[1;32m    385\u001b[0m         \u001b[0;32mtry\u001b[0m\u001b[0;34m:\u001b[0m\u001b[0;34m\u001b[0m\u001b[0;34m\u001b[0m\u001b[0m\n\u001b[0;32m--> 386\u001b[0;31m             \u001b[0mself\u001b[0m\u001b[0;34m.\u001b[0m\u001b[0m_validate_conn\u001b[0m\u001b[0;34m(\u001b[0m\u001b[0mconn\u001b[0m\u001b[0;34m)\u001b[0m\u001b[0;34m\u001b[0m\u001b[0;34m\u001b[0m\u001b[0m\n\u001b[0m\u001b[1;32m    387\u001b[0m         \u001b[0;32mexcept\u001b[0m \u001b[0;34m(\u001b[0m\u001b[0mSocketTimeout\u001b[0m\u001b[0;34m,\u001b[0m \u001b[0mBaseSSLError\u001b[0m\u001b[0;34m)\u001b[0m \u001b[0;32mas\u001b[0m \u001b[0me\u001b[0m\u001b[0;34m:\u001b[0m\u001b[0;34m\u001b[0m\u001b[0;34m\u001b[0m\u001b[0m\n",
      "\u001b[0;32m~/opt/anaconda3/lib/python3.9/site-packages/urllib3/connectionpool.py\u001b[0m in \u001b[0;36m_validate_conn\u001b[0;34m(self, conn)\u001b[0m\n\u001b[1;32m   1041\u001b[0m         \u001b[0;32mif\u001b[0m \u001b[0;32mnot\u001b[0m \u001b[0mgetattr\u001b[0m\u001b[0;34m(\u001b[0m\u001b[0mconn\u001b[0m\u001b[0;34m,\u001b[0m \u001b[0;34m\"sock\"\u001b[0m\u001b[0;34m,\u001b[0m \u001b[0;32mNone\u001b[0m\u001b[0;34m)\u001b[0m\u001b[0;34m:\u001b[0m  \u001b[0;31m# AppEngine might not have  `.sock`\u001b[0m\u001b[0;34m\u001b[0m\u001b[0;34m\u001b[0m\u001b[0m\n\u001b[0;32m-> 1042\u001b[0;31m             \u001b[0mconn\u001b[0m\u001b[0;34m.\u001b[0m\u001b[0mconnect\u001b[0m\u001b[0;34m(\u001b[0m\u001b[0;34m)\u001b[0m\u001b[0;34m\u001b[0m\u001b[0;34m\u001b[0m\u001b[0m\n\u001b[0m\u001b[1;32m   1043\u001b[0m \u001b[0;34m\u001b[0m\u001b[0m\n",
      "\u001b[0;32m~/opt/anaconda3/lib/python3.9/site-packages/urllib3/connection.py\u001b[0m in \u001b[0;36mconnect\u001b[0;34m(self)\u001b[0m\n\u001b[1;32m    357\u001b[0m         \u001b[0;31m# Add certificate verification\u001b[0m\u001b[0;34m\u001b[0m\u001b[0;34m\u001b[0m\u001b[0m\n\u001b[0;32m--> 358\u001b[0;31m         \u001b[0mself\u001b[0m\u001b[0;34m.\u001b[0m\u001b[0msock\u001b[0m \u001b[0;34m=\u001b[0m \u001b[0mconn\u001b[0m \u001b[0;34m=\u001b[0m \u001b[0mself\u001b[0m\u001b[0;34m.\u001b[0m\u001b[0m_new_conn\u001b[0m\u001b[0;34m(\u001b[0m\u001b[0;34m)\u001b[0m\u001b[0;34m\u001b[0m\u001b[0;34m\u001b[0m\u001b[0m\n\u001b[0m\u001b[1;32m    359\u001b[0m         \u001b[0mhostname\u001b[0m \u001b[0;34m=\u001b[0m \u001b[0mself\u001b[0m\u001b[0;34m.\u001b[0m\u001b[0mhost\u001b[0m\u001b[0;34m\u001b[0m\u001b[0;34m\u001b[0m\u001b[0m\n",
      "\u001b[0;32m~/opt/anaconda3/lib/python3.9/site-packages/urllib3/connection.py\u001b[0m in \u001b[0;36m_new_conn\u001b[0;34m(self)\u001b[0m\n\u001b[1;32m    185\u001b[0m         \u001b[0;32mexcept\u001b[0m \u001b[0mSocketError\u001b[0m \u001b[0;32mas\u001b[0m \u001b[0me\u001b[0m\u001b[0;34m:\u001b[0m\u001b[0;34m\u001b[0m\u001b[0;34m\u001b[0m\u001b[0m\n\u001b[0;32m--> 186\u001b[0;31m             raise NewConnectionError(\n\u001b[0m\u001b[1;32m    187\u001b[0m                 \u001b[0mself\u001b[0m\u001b[0;34m,\u001b[0m \u001b[0;34m\"Failed to establish a new connection: %s\"\u001b[0m \u001b[0;34m%\u001b[0m \u001b[0me\u001b[0m\u001b[0;34m\u001b[0m\u001b[0;34m\u001b[0m\u001b[0m\n",
      "\u001b[0;31mNewConnectionError\u001b[0m: <urllib3.connection.HTTPSConnection object at 0x7ff32a6c5e50>: Failed to establish a new connection: [Errno 8] nodename nor servname provided, or not known",
      "\nDuring handling of the above exception, another exception occurred:\n",
      "\u001b[0;31mMaxRetryError\u001b[0m                             Traceback (most recent call last)",
      "\u001b[0;32m~/opt/anaconda3/lib/python3.9/site-packages/requests/adapters.py\u001b[0m in \u001b[0;36msend\u001b[0;34m(self, request, stream, timeout, verify, cert, proxies)\u001b[0m\n\u001b[1;32m    439\u001b[0m             \u001b[0;32mif\u001b[0m \u001b[0;32mnot\u001b[0m \u001b[0mchunked\u001b[0m\u001b[0;34m:\u001b[0m\u001b[0;34m\u001b[0m\u001b[0;34m\u001b[0m\u001b[0m\n\u001b[0;32m--> 440\u001b[0;31m                 resp = conn.urlopen(\n\u001b[0m\u001b[1;32m    441\u001b[0m                     \u001b[0mmethod\u001b[0m\u001b[0;34m=\u001b[0m\u001b[0mrequest\u001b[0m\u001b[0;34m.\u001b[0m\u001b[0mmethod\u001b[0m\u001b[0;34m,\u001b[0m\u001b[0;34m\u001b[0m\u001b[0;34m\u001b[0m\u001b[0m\n",
      "\u001b[0;32m~/opt/anaconda3/lib/python3.9/site-packages/urllib3/connectionpool.py\u001b[0m in \u001b[0;36murlopen\u001b[0;34m(self, method, url, body, headers, retries, redirect, assert_same_host, timeout, pool_timeout, release_conn, chunked, body_pos, **response_kw)\u001b[0m\n\u001b[1;32m    786\u001b[0m \u001b[0;34m\u001b[0m\u001b[0m\n\u001b[0;32m--> 787\u001b[0;31m             retries = retries.increment(\n\u001b[0m\u001b[1;32m    788\u001b[0m                 \u001b[0mmethod\u001b[0m\u001b[0;34m,\u001b[0m \u001b[0murl\u001b[0m\u001b[0;34m,\u001b[0m \u001b[0merror\u001b[0m\u001b[0;34m=\u001b[0m\u001b[0me\u001b[0m\u001b[0;34m,\u001b[0m \u001b[0m_pool\u001b[0m\u001b[0;34m=\u001b[0m\u001b[0mself\u001b[0m\u001b[0;34m,\u001b[0m \u001b[0m_stacktrace\u001b[0m\u001b[0;34m=\u001b[0m\u001b[0msys\u001b[0m\u001b[0;34m.\u001b[0m\u001b[0mexc_info\u001b[0m\u001b[0;34m(\u001b[0m\u001b[0;34m)\u001b[0m\u001b[0;34m[\u001b[0m\u001b[0;36m2\u001b[0m\u001b[0;34m]\u001b[0m\u001b[0;34m\u001b[0m\u001b[0;34m\u001b[0m\u001b[0m\n",
      "\u001b[0;32m~/opt/anaconda3/lib/python3.9/site-packages/urllib3/util/retry.py\u001b[0m in \u001b[0;36mincrement\u001b[0;34m(self, method, url, response, error, _pool, _stacktrace)\u001b[0m\n\u001b[1;32m    591\u001b[0m         \u001b[0;32mif\u001b[0m \u001b[0mnew_retry\u001b[0m\u001b[0;34m.\u001b[0m\u001b[0mis_exhausted\u001b[0m\u001b[0;34m(\u001b[0m\u001b[0;34m)\u001b[0m\u001b[0;34m:\u001b[0m\u001b[0;34m\u001b[0m\u001b[0;34m\u001b[0m\u001b[0m\n\u001b[0;32m--> 592\u001b[0;31m             \u001b[0;32mraise\u001b[0m \u001b[0mMaxRetryError\u001b[0m\u001b[0;34m(\u001b[0m\u001b[0m_pool\u001b[0m\u001b[0;34m,\u001b[0m \u001b[0murl\u001b[0m\u001b[0;34m,\u001b[0m \u001b[0merror\u001b[0m \u001b[0;32mor\u001b[0m \u001b[0mResponseError\u001b[0m\u001b[0;34m(\u001b[0m\u001b[0mcause\u001b[0m\u001b[0;34m)\u001b[0m\u001b[0;34m)\u001b[0m\u001b[0;34m\u001b[0m\u001b[0;34m\u001b[0m\u001b[0m\n\u001b[0m\u001b[1;32m    593\u001b[0m \u001b[0;34m\u001b[0m\u001b[0m\n",
      "\u001b[0;31mMaxRetryError\u001b[0m: HTTPSConnectionPool(host='ergast.com', port=443): Max retries exceeded with url: /api/f1/2021/13/constructorStandings.json (Caused by NewConnectionError('<urllib3.connection.HTTPSConnection object at 0x7ff32a6c5e50>: Failed to establish a new connection: [Errno 8] nodename nor servname provided, or not known'))",
      "\nDuring handling of the above exception, another exception occurred:\n",
      "\u001b[0;31mConnectionError\u001b[0m                           Traceback (most recent call last)",
      "\u001b[0;32m/var/folders/6f/pzb1mp0j39b1gqfhfdyf0qr80000gn/T/ipykernel_12271/3283935699.py\u001b[0m in \u001b[0;36m<module>\u001b[0;34m\u001b[0m\n\u001b[1;32m     12\u001b[0m     \u001b[0;32mreturn\u001b[0m \u001b[0mdrivers_standings\u001b[0m\u001b[0;34m\u001b[0m\u001b[0;34m\u001b[0m\u001b[0m\n\u001b[1;32m     13\u001b[0m \u001b[0;34m\u001b[0m\u001b[0m\n\u001b[0;32m---> 14\u001b[0;31m \u001b[0mconstructor_standings\u001b[0m \u001b[0;34m=\u001b[0m \u001b[0mget_constructor_standings\u001b[0m\u001b[0;34m(\u001b[0m\u001b[0;34m)\u001b[0m\u001b[0;34m\u001b[0m\u001b[0;34m\u001b[0m\u001b[0m\n\u001b[0m\u001b[1;32m     15\u001b[0m \u001b[0;34m\u001b[0m\u001b[0m\n\u001b[1;32m     16\u001b[0m \u001b[0mstandings_df\u001b[0m \u001b[0;34m=\u001b[0m \u001b[0mpd\u001b[0m\u001b[0;34m.\u001b[0m\u001b[0mjson_normalize\u001b[0m\u001b[0;34m(\u001b[0m\u001b[0mconstructor_standings\u001b[0m\u001b[0;34m)\u001b[0m\u001b[0;34m\u001b[0m\u001b[0;34m\u001b[0m\u001b[0m\n",
      "\u001b[0;32m/var/folders/6f/pzb1mp0j39b1gqfhfdyf0qr80000gn/T/ipykernel_12271/3283935699.py\u001b[0m in \u001b[0;36mget_constructor_standings\u001b[0;34m()\u001b[0m\n\u001b[1;32m      7\u001b[0m \u001b[0;32mdef\u001b[0m \u001b[0mget_constructor_standings\u001b[0m\u001b[0;34m(\u001b[0m\u001b[0;34m)\u001b[0m\u001b[0;34m:\u001b[0m\u001b[0;34m\u001b[0m\u001b[0;34m\u001b[0m\u001b[0m\n\u001b[1;32m      8\u001b[0m     \u001b[0murl\u001b[0m \u001b[0;34m=\u001b[0m \u001b[0;34m\"https://ergast.com/api/f1/2021/13/constructorStandings.json\"\u001b[0m\u001b[0;34m\u001b[0m\u001b[0;34m\u001b[0m\u001b[0m\n\u001b[0;32m----> 9\u001b[0;31m     \u001b[0mresponse\u001b[0m \u001b[0;34m=\u001b[0m \u001b[0mrequests\u001b[0m\u001b[0;34m.\u001b[0m\u001b[0mget\u001b[0m\u001b[0;34m(\u001b[0m\u001b[0murl\u001b[0m\u001b[0;34m)\u001b[0m\u001b[0;34m\u001b[0m\u001b[0;34m\u001b[0m\u001b[0m\n\u001b[0m\u001b[1;32m     10\u001b[0m     \u001b[0mdata\u001b[0m \u001b[0;34m=\u001b[0m \u001b[0mresponse\u001b[0m\u001b[0;34m.\u001b[0m\u001b[0mjson\u001b[0m\u001b[0;34m(\u001b[0m\u001b[0;34m)\u001b[0m\u001b[0;34m\u001b[0m\u001b[0;34m\u001b[0m\u001b[0m\n\u001b[1;32m     11\u001b[0m     \u001b[0mdrivers_standings\u001b[0m \u001b[0;34m=\u001b[0m \u001b[0mdata\u001b[0m\u001b[0;34m[\u001b[0m\u001b[0;34m'MRData'\u001b[0m\u001b[0;34m]\u001b[0m\u001b[0;34m[\u001b[0m\u001b[0;34m'StandingsTable'\u001b[0m\u001b[0;34m]\u001b[0m\u001b[0;34m[\u001b[0m\u001b[0;34m'StandingsLists'\u001b[0m\u001b[0;34m]\u001b[0m\u001b[0;34m[\u001b[0m\u001b[0;36m0\u001b[0m\u001b[0;34m]\u001b[0m\u001b[0;34m[\u001b[0m\u001b[0;34m'ConstructorStandings'\u001b[0m\u001b[0;34m]\u001b[0m  \u001b[0;31m# noqa: E501\u001b[0m\u001b[0;34m\u001b[0m\u001b[0;34m\u001b[0m\u001b[0m\n",
      "\u001b[0;32m~/opt/anaconda3/lib/python3.9/site-packages/requests/api.py\u001b[0m in \u001b[0;36mget\u001b[0;34m(url, params, **kwargs)\u001b[0m\n\u001b[1;32m     73\u001b[0m     \"\"\"\n\u001b[1;32m     74\u001b[0m \u001b[0;34m\u001b[0m\u001b[0m\n\u001b[0;32m---> 75\u001b[0;31m     \u001b[0;32mreturn\u001b[0m \u001b[0mrequest\u001b[0m\u001b[0;34m(\u001b[0m\u001b[0;34m'get'\u001b[0m\u001b[0;34m,\u001b[0m \u001b[0murl\u001b[0m\u001b[0;34m,\u001b[0m \u001b[0mparams\u001b[0m\u001b[0;34m=\u001b[0m\u001b[0mparams\u001b[0m\u001b[0;34m,\u001b[0m \u001b[0;34m**\u001b[0m\u001b[0mkwargs\u001b[0m\u001b[0;34m)\u001b[0m\u001b[0;34m\u001b[0m\u001b[0;34m\u001b[0m\u001b[0m\n\u001b[0m\u001b[1;32m     76\u001b[0m \u001b[0;34m\u001b[0m\u001b[0m\n\u001b[1;32m     77\u001b[0m \u001b[0;34m\u001b[0m\u001b[0m\n",
      "\u001b[0;32m~/opt/anaconda3/lib/python3.9/site-packages/requests/api.py\u001b[0m in \u001b[0;36mrequest\u001b[0;34m(method, url, **kwargs)\u001b[0m\n\u001b[1;32m     59\u001b[0m     \u001b[0;31m# cases, and look like a memory leak in others.\u001b[0m\u001b[0;34m\u001b[0m\u001b[0;34m\u001b[0m\u001b[0m\n\u001b[1;32m     60\u001b[0m     \u001b[0;32mwith\u001b[0m \u001b[0msessions\u001b[0m\u001b[0;34m.\u001b[0m\u001b[0mSession\u001b[0m\u001b[0;34m(\u001b[0m\u001b[0;34m)\u001b[0m \u001b[0;32mas\u001b[0m \u001b[0msession\u001b[0m\u001b[0;34m:\u001b[0m\u001b[0;34m\u001b[0m\u001b[0;34m\u001b[0m\u001b[0m\n\u001b[0;32m---> 61\u001b[0;31m         \u001b[0;32mreturn\u001b[0m \u001b[0msession\u001b[0m\u001b[0;34m.\u001b[0m\u001b[0mrequest\u001b[0m\u001b[0;34m(\u001b[0m\u001b[0mmethod\u001b[0m\u001b[0;34m=\u001b[0m\u001b[0mmethod\u001b[0m\u001b[0;34m,\u001b[0m \u001b[0murl\u001b[0m\u001b[0;34m=\u001b[0m\u001b[0murl\u001b[0m\u001b[0;34m,\u001b[0m \u001b[0;34m**\u001b[0m\u001b[0mkwargs\u001b[0m\u001b[0;34m)\u001b[0m\u001b[0;34m\u001b[0m\u001b[0;34m\u001b[0m\u001b[0m\n\u001b[0m\u001b[1;32m     62\u001b[0m \u001b[0;34m\u001b[0m\u001b[0m\n\u001b[1;32m     63\u001b[0m \u001b[0;34m\u001b[0m\u001b[0m\n",
      "\u001b[0;32m~/opt/anaconda3/lib/python3.9/site-packages/requests/sessions.py\u001b[0m in \u001b[0;36mrequest\u001b[0;34m(self, method, url, params, data, headers, cookies, files, auth, timeout, allow_redirects, proxies, hooks, stream, verify, cert, json)\u001b[0m\n\u001b[1;32m    527\u001b[0m         }\n\u001b[1;32m    528\u001b[0m         \u001b[0msend_kwargs\u001b[0m\u001b[0;34m.\u001b[0m\u001b[0mupdate\u001b[0m\u001b[0;34m(\u001b[0m\u001b[0msettings\u001b[0m\u001b[0;34m)\u001b[0m\u001b[0;34m\u001b[0m\u001b[0;34m\u001b[0m\u001b[0m\n\u001b[0;32m--> 529\u001b[0;31m         \u001b[0mresp\u001b[0m \u001b[0;34m=\u001b[0m \u001b[0mself\u001b[0m\u001b[0;34m.\u001b[0m\u001b[0msend\u001b[0m\u001b[0;34m(\u001b[0m\u001b[0mprep\u001b[0m\u001b[0;34m,\u001b[0m \u001b[0;34m**\u001b[0m\u001b[0msend_kwargs\u001b[0m\u001b[0;34m)\u001b[0m\u001b[0;34m\u001b[0m\u001b[0;34m\u001b[0m\u001b[0m\n\u001b[0m\u001b[1;32m    530\u001b[0m \u001b[0;34m\u001b[0m\u001b[0m\n\u001b[1;32m    531\u001b[0m         \u001b[0;32mreturn\u001b[0m \u001b[0mresp\u001b[0m\u001b[0;34m\u001b[0m\u001b[0;34m\u001b[0m\u001b[0m\n",
      "\u001b[0;32m~/opt/anaconda3/lib/python3.9/site-packages/requests/sessions.py\u001b[0m in \u001b[0;36msend\u001b[0;34m(self, request, **kwargs)\u001b[0m\n\u001b[1;32m    643\u001b[0m \u001b[0;34m\u001b[0m\u001b[0m\n\u001b[1;32m    644\u001b[0m         \u001b[0;31m# Send the request\u001b[0m\u001b[0;34m\u001b[0m\u001b[0;34m\u001b[0m\u001b[0m\n\u001b[0;32m--> 645\u001b[0;31m         \u001b[0mr\u001b[0m \u001b[0;34m=\u001b[0m \u001b[0madapter\u001b[0m\u001b[0;34m.\u001b[0m\u001b[0msend\u001b[0m\u001b[0;34m(\u001b[0m\u001b[0mrequest\u001b[0m\u001b[0;34m,\u001b[0m \u001b[0;34m**\u001b[0m\u001b[0mkwargs\u001b[0m\u001b[0;34m)\u001b[0m\u001b[0;34m\u001b[0m\u001b[0;34m\u001b[0m\u001b[0m\n\u001b[0m\u001b[1;32m    646\u001b[0m \u001b[0;34m\u001b[0m\u001b[0m\n\u001b[1;32m    647\u001b[0m         \u001b[0;31m# Total elapsed time of the request (approximately)\u001b[0m\u001b[0;34m\u001b[0m\u001b[0;34m\u001b[0m\u001b[0m\n",
      "\u001b[0;32m~/opt/anaconda3/lib/python3.9/site-packages/requests/adapters.py\u001b[0m in \u001b[0;36msend\u001b[0;34m(self, request, stream, timeout, verify, cert, proxies)\u001b[0m\n\u001b[1;32m    517\u001b[0m                 \u001b[0;32mraise\u001b[0m \u001b[0mSSLError\u001b[0m\u001b[0;34m(\u001b[0m\u001b[0me\u001b[0m\u001b[0;34m,\u001b[0m \u001b[0mrequest\u001b[0m\u001b[0;34m=\u001b[0m\u001b[0mrequest\u001b[0m\u001b[0;34m)\u001b[0m\u001b[0;34m\u001b[0m\u001b[0;34m\u001b[0m\u001b[0m\n\u001b[1;32m    518\u001b[0m \u001b[0;34m\u001b[0m\u001b[0m\n\u001b[0;32m--> 519\u001b[0;31m             \u001b[0;32mraise\u001b[0m \u001b[0mConnectionError\u001b[0m\u001b[0;34m(\u001b[0m\u001b[0me\u001b[0m\u001b[0;34m,\u001b[0m \u001b[0mrequest\u001b[0m\u001b[0;34m=\u001b[0m\u001b[0mrequest\u001b[0m\u001b[0;34m)\u001b[0m\u001b[0;34m\u001b[0m\u001b[0;34m\u001b[0m\u001b[0m\n\u001b[0m\u001b[1;32m    520\u001b[0m \u001b[0;34m\u001b[0m\u001b[0m\n\u001b[1;32m    521\u001b[0m         \u001b[0;32mexcept\u001b[0m \u001b[0mClosedPoolError\u001b[0m \u001b[0;32mas\u001b[0m \u001b[0me\u001b[0m\u001b[0;34m:\u001b[0m\u001b[0;34m\u001b[0m\u001b[0;34m\u001b[0m\u001b[0m\n",
      "\u001b[0;31mConnectionError\u001b[0m: HTTPSConnectionPool(host='ergast.com', port=443): Max retries exceeded with url: /api/f1/2021/13/constructorStandings.json (Caused by NewConnectionError('<urllib3.connection.HTTPSConnection object at 0x7ff32a6c5e50>: Failed to establish a new connection: [Errno 8] nodename nor servname provided, or not known'))"
     ]
    }
   ],
   "source": [
    "# Now we'll pull down the team (or \"Constructor\") standings prior to the Monza race:\n",
    "\n",
    "# I swear this works when the site hosting it is reachable, but if it doesn't when you run this, \n",
    "# I've included a copy of the df it returns as \"backupStandings.csv\"\n",
    "# Simply comment out the code below and uncomment the last line\n",
    "\n",
    "def get_constructor_standings():\n",
    "    url = \"https://ergast.com/api/f1/2021/13/constructorStandings.json\"\n",
    "    response = requests.get(url)\n",
    "    data = response.json()\n",
    "    drivers_standings = data['MRData']['StandingsTable']['StandingsLists'][0]['ConstructorStandings']  # noqa: E501\n",
    "    return drivers_standings\n",
    "\n",
    "constructor_standings = get_constructor_standings()\n",
    "\n",
    "standings_df = pd.json_normalize(constructor_standings)\n",
    "standings_df['points'] = standings_df['points'].astype(float)\n",
    "\n",
    "# standings_df = pd.read_csv('backupStandings.csv')"
   ]
  },
  {
   "cell_type": "code",
   "execution_count": 7,
   "metadata": {},
   "outputs": [],
   "source": [
    "# We'll go ahead and create variables for our mentioned teams' colors\n",
    "rb_color = ff1.plotting.team_color('Red Bull')\n",
    "mer_color = ff1.plotting.team_color('Mercedes')\n",
    "fer_color = ff1.plotting.team_color('Ferrari')\n",
    "mcl_color = ff1.plotting.team_color('McLaren')"
   ]
  },
  {
   "cell_type": "code",
   "execution_count": 8,
   "metadata": {},
   "outputs": [
    {
     "ename": "NameError",
     "evalue": "name 'standings_df' is not defined",
     "output_type": "error",
     "traceback": [
      "\u001b[0;31m---------------------------------------------------------------------------\u001b[0m",
      "\u001b[0;31mNameError\u001b[0m                                 Traceback (most recent call last)",
      "\u001b[0;32m/var/folders/6f/pzb1mp0j39b1gqfhfdyf0qr80000gn/T/ipykernel_12271/3593916413.py\u001b[0m in \u001b[0;36m<module>\u001b[0;34m\u001b[0m\n\u001b[1;32m      2\u001b[0m \u001b[0mplt\u001b[0m\u001b[0;34m.\u001b[0m\u001b[0mstyle\u001b[0m\u001b[0;34m.\u001b[0m\u001b[0muse\u001b[0m\u001b[0;34m(\u001b[0m\u001b[0;34m'fivethirtyeight'\u001b[0m\u001b[0;34m)\u001b[0m\u001b[0;34m\u001b[0m\u001b[0;34m\u001b[0m\u001b[0m\n\u001b[1;32m      3\u001b[0m \u001b[0mplt\u001b[0m\u001b[0;34m.\u001b[0m\u001b[0mfigure\u001b[0m\u001b[0;34m(\u001b[0m\u001b[0mfigsize\u001b[0m \u001b[0;34m=\u001b[0m \u001b[0;34m(\u001b[0m\u001b[0;36m18\u001b[0m\u001b[0;34m,\u001b[0m \u001b[0;36m8\u001b[0m\u001b[0;34m)\u001b[0m\u001b[0;34m)\u001b[0m\u001b[0;34m\u001b[0m\u001b[0;34m\u001b[0m\u001b[0m\n\u001b[0;32m----> 4\u001b[0;31m \u001b[0mbars\u001b[0m \u001b[0;34m=\u001b[0m \u001b[0mplt\u001b[0m\u001b[0;34m.\u001b[0m\u001b[0mbar\u001b[0m\u001b[0;34m(\u001b[0m\u001b[0mstandings_df\u001b[0m\u001b[0;34m[\u001b[0m\u001b[0;34m'Constructor.name'\u001b[0m\u001b[0;34m]\u001b[0m\u001b[0;34m,\u001b[0m \u001b[0mstandings_df\u001b[0m\u001b[0;34m[\u001b[0m\u001b[0;34m'points'\u001b[0m\u001b[0;34m]\u001b[0m\u001b[0;34m,\u001b[0m \u001b[0mlinewidth\u001b[0m \u001b[0;34m=\u001b[0m \u001b[0;36m1\u001b[0m\u001b[0;34m,\u001b[0m \u001b[0mcolor\u001b[0m \u001b[0;34m=\u001b[0m \u001b[0;34m'#AEAEAE'\u001b[0m\u001b[0;34m,\u001b[0m \u001b[0medgecolor\u001b[0m\u001b[0;34m=\u001b[0m\u001b[0;34m'#C5C5C5'\u001b[0m\u001b[0;34m)\u001b[0m\u001b[0;34m\u001b[0m\u001b[0;34m\u001b[0m\u001b[0m\n\u001b[0m\u001b[1;32m      5\u001b[0m \u001b[0mplt\u001b[0m\u001b[0;34m.\u001b[0m\u001b[0mxlabel\u001b[0m\u001b[0;34m(\u001b[0m\u001b[0;34m'Team'\u001b[0m\u001b[0;34m)\u001b[0m\u001b[0;34m\u001b[0m\u001b[0;34m\u001b[0m\u001b[0m\n\u001b[1;32m      6\u001b[0m \u001b[0mplt\u001b[0m\u001b[0;34m.\u001b[0m\u001b[0mylabel\u001b[0m\u001b[0;34m(\u001b[0m\u001b[0;34m'Points'\u001b[0m\u001b[0;34m)\u001b[0m\u001b[0;34m\u001b[0m\u001b[0;34m\u001b[0m\u001b[0m\n",
      "\u001b[0;31mNameError\u001b[0m: name 'standings_df' is not defined"
     ]
    },
    {
     "data": {
      "text/plain": [
       "<Figure size 1800x800 with 0 Axes>"
      ]
     },
     "metadata": {},
     "output_type": "display_data"
    }
   ],
   "source": [
    "# And we'll plot the WCC standings as they were before the Monza race\n",
    "plt.style.use('fivethirtyeight')\n",
    "plt.figure(figsize = (18, 8))\n",
    "bars = plt.bar(standings_df['Constructor.name'], standings_df['points'], linewidth = 1, color = '#AEAEAE', edgecolor='#C5C5C5')\n",
    "plt.xlabel('Team')\n",
    "plt.ylabel('Points')\n",
    "plt.title('WCC Standings Before Monza 2021')\n",
    "bars[0].set_color(mer_color)\n",
    "bars[1].set_color(rb_color)\n",
    "bars[2].set_color(fer_color)\n",
    "bars[3].set_color(mcl_color)"
   ]
  },
  {
   "cell_type": "markdown",
   "metadata": {},
   "source": [
    "Monza is the 14th of 22 races in the 2021 season, so McLaren aren't quite done for yet, but Ferrari have been the more consistent team in scoring points with both drivers (in F1, that means finishing races inside the top 10 positions). Norris is in the middle of a banner season, but Ricciardo, who is new to the team and car, is having difficulty adjusting. If McLaren are to retake 3rd in the WCC, they'll need to press their advantages whenever they can.\n",
    "\n",
    "This would be a good time to check in with our drivers. You two have an advantage around here somewhere, right?"
   ]
  },
  {
   "cell_type": "code",
   "execution_count": 9,
   "metadata": {},
   "outputs": [
    {
     "name": "stderr",
     "output_type": "stream",
     "text": [
      "core           INFO \tLoading data for Italian Grand Prix - Qualifying [v2.3.0]\n",
      "api            INFO \tUsing cached data for driver_info\n",
      "session     WARNING \tRequest for URL https://ergast.com/api/f1/2021/14/qualifying.json failed; using cached response\n",
      "Traceback (most recent call last):\n",
      "  File \"/Users/jddannunzio/opt/anaconda3/lib/python3.9/site-packages/urllib3/connection.py\", line 174, in _new_conn\n",
      "    conn = connection.create_connection(\n",
      "  File \"/Users/jddannunzio/opt/anaconda3/lib/python3.9/site-packages/urllib3/util/connection.py\", line 72, in create_connection\n",
      "    for res in socket.getaddrinfo(host, port, family, socket.SOCK_STREAM):\n",
      "  File \"/Users/jddannunzio/opt/anaconda3/lib/python3.9/socket.py\", line 954, in getaddrinfo\n",
      "    for res in _socket.getaddrinfo(host, port, family, type, proto, flags):\n",
      "socket.gaierror: [Errno 8] nodename nor servname provided, or not known\n",
      "\n",
      "During handling of the above exception, another exception occurred:\n",
      "\n",
      "Traceback (most recent call last):\n",
      "  File \"/Users/jddannunzio/opt/anaconda3/lib/python3.9/site-packages/urllib3/connectionpool.py\", line 703, in urlopen\n",
      "    httplib_response = self._make_request(\n",
      "  File \"/Users/jddannunzio/opt/anaconda3/lib/python3.9/site-packages/urllib3/connectionpool.py\", line 386, in _make_request\n",
      "    self._validate_conn(conn)\n",
      "  File \"/Users/jddannunzio/opt/anaconda3/lib/python3.9/site-packages/urllib3/connectionpool.py\", line 1042, in _validate_conn\n",
      "    conn.connect()\n",
      "  File \"/Users/jddannunzio/opt/anaconda3/lib/python3.9/site-packages/urllib3/connection.py\", line 358, in connect\n",
      "    self.sock = conn = self._new_conn()\n",
      "  File \"/Users/jddannunzio/opt/anaconda3/lib/python3.9/site-packages/urllib3/connection.py\", line 186, in _new_conn\n",
      "    raise NewConnectionError(\n",
      "urllib3.exceptions.NewConnectionError: <urllib3.connection.HTTPSConnection object at 0x7ff32d473400>: Failed to establish a new connection: [Errno 8] nodename nor servname provided, or not known\n",
      "\n",
      "During handling of the above exception, another exception occurred:\n",
      "\n",
      "Traceback (most recent call last):\n",
      "  File \"/Users/jddannunzio/opt/anaconda3/lib/python3.9/site-packages/requests/adapters.py\", line 440, in send\n",
      "    resp = conn.urlopen(\n",
      "  File \"/Users/jddannunzio/opt/anaconda3/lib/python3.9/site-packages/urllib3/connectionpool.py\", line 787, in urlopen\n",
      "    retries = retries.increment(\n",
      "  File \"/Users/jddannunzio/opt/anaconda3/lib/python3.9/site-packages/urllib3/util/retry.py\", line 592, in increment\n",
      "    raise MaxRetryError(_pool, url, error or ResponseError(cause))\n",
      "urllib3.exceptions.MaxRetryError: HTTPSConnectionPool(host='ergast.com', port=443): Max retries exceeded with url: /api/f1/2021/14/qualifying.json (Caused by NewConnectionError('<urllib3.connection.HTTPSConnection object at 0x7ff32d473400>: Failed to establish a new connection: [Errno 8] nodename nor servname provided, or not known'))\n",
      "\n",
      "During handling of the above exception, another exception occurred:\n",
      "\n",
      "Traceback (most recent call last):\n",
      "  File \"/Users/jddannunzio/opt/anaconda3/lib/python3.9/site-packages/requests_cache/session.py\", line 230, in _resend_and_ignore\n",
      "    response = self._send_and_cache(request, actions, cached_response, **kwargs)\n",
      "  File \"/Users/jddannunzio/opt/anaconda3/lib/python3.9/site-packages/requests_cache/session.py\", line 189, in _send_and_cache\n",
      "    response = super().send(request, **kwargs)\n",
      "  File \"/Users/jddannunzio/opt/anaconda3/lib/python3.9/site-packages/requests/sessions.py\", line 645, in send\n",
      "    r = adapter.send(request, **kwargs)\n",
      "  File \"/Users/jddannunzio/opt/anaconda3/lib/python3.9/site-packages/requests/adapters.py\", line 519, in send\n",
      "    raise ConnectionError(e, request=request)\n",
      "requests.exceptions.ConnectionError: HTTPSConnectionPool(host='ergast.com', port=443): Max retries exceeded with url: /api/f1/2021/14/qualifying.json (Caused by NewConnectionError('<urllib3.connection.HTTPSConnection object at 0x7ff32d473400>: Failed to establish a new connection: [Errno 8] nodename nor servname provided, or not known'))\n",
      "api            INFO \tUsing cached data for timing_data\n",
      "api            INFO \tUsing cached data for timing_app_data\n",
      "core           INFO \tProcessing timing data...\n",
      "api            INFO \tUsing cached data for session_status_data\n",
      "api            INFO \tUsing cached data for track_status_data\n",
      "api            INFO \tUsing cached data for car_data\n",
      "api            INFO \tUsing cached data for position_data\n",
      "api            INFO \tUsing cached data for weather_data\n",
      "api            INFO \tUsing cached data for race_control_messages\n",
      "core           INFO \tFinished loading data for 20 drivers: ['77', '44', '33', '4', '3', '10', '55', '16', '11', '99', '5', '18', '14', '31', '63', '6', '22', '47', '88', '9']\n"
     ]
    }
   ],
   "source": [
    "# Set new session and pull Monza qualifying session data\n",
    "year, grand_prix, session = 2021, 'Monza', 'Q'\n",
    "\n",
    "quali = ff1.get_session(year, grand_prix, session)\n",
    "quali.load()"
   ]
  },
  {
   "cell_type": "code",
   "execution_count": 10,
   "metadata": {},
   "outputs": [],
   "source": [
    "# Get fastest speed trap measurement for each driver during qualifying\n",
    "top_speeds = quali.laps[['Driver', 'Team', 'SpeedST']].groupby(['Driver']).max().sort_values('SpeedST', ascending=False)"
   ]
  },
  {
   "cell_type": "code",
   "execution_count": 11,
   "metadata": {},
   "outputs": [],
   "source": [
    "# Give the top_speeds list a good shake and create the list of colors we need to chart it\n",
    "top_speeds = top_speeds.reset_index()\n",
    "\n",
    "team_colors = list()\n",
    "for index, speed in top_speeds.iterlaps():\n",
    "    color = ff1.plotting.team_color(speed['Team'])\n",
    "    team_colors.append(color)"
   ]
  },
  {
   "cell_type": "code",
   "execution_count": 12,
   "metadata": {},
   "outputs": [
    {
     "data": {
      "text/plain": [
       "Text(0.5, 1.0, 'Monza 2021 Qualifying: Top Speeds')"
      ]
     },
     "execution_count": 12,
     "metadata": {},
     "output_type": "execute_result"
    },
    {
     "data": {
      "image/png": "[encoded data removed]",
      "text/plain": [
       "<Figure size 1200x800 with 1 Axes>"
      ]
     },
     "metadata": {},
     "output_type": "display_data"
    }
   ],
   "source": [
    "# Create the top speeds chart\n",
    "plt.style.use('fivethirtyeight')\n",
    "plt.rcParams['figure.figsize'] = [12, 8]\n",
    "fig, ax = plt.subplots()\n",
    "ax.barh(top_speeds.index, top_speeds['SpeedST'],\n",
    "        color=team_colors, edgecolor='#C5C5C5', linewidth = 1)\n",
    "ax.set_yticks(top_speeds.index)\n",
    "ax.set_yticklabels(top_speeds['Driver'])\n",
    "ax.invert_yaxis()\n",
    "ax.set_xlim(326, 347)\n",
    "ax.set_xlabel('Top Speed (km/h)')\n",
    "ax.set_ylabel('Driver')\n",
    "plt.title('Monza 2021 Qualifying: Top Speeds')"
   ]
  },
  {
   "cell_type": "markdown",
   "metadata": {},
   "source": [
    "Ah, here's something we can work with. \n",
    "\n",
    "For the uninitiated: [F1 cars](https://en.wikipedia.org/wiki/Formula_One_car) are by most measures the fastest on the planet, but probably not in the way you're thinking. As you can see above, at Monza they can reach straight-line speeds nearing 350 km/h (around 215 mph), but IndyCars on oval tracks reach up to 380 km/h (around 236 mph). What makes F1 cars so uniquely quick is their [downforce](https://en.wikipedia.org/wiki/Downforce) and the speed it allows them to carry through turns, or \"corners\". You'll notice that Verstappen, one of the two contenders for the WDC, is shown here with the *3rd-slowest* top speed. But he'll still start the race from pole position because these cars only start to really work when they turn and the inverted wings all over them push them down into the surface of the track, *literally* creating grip out of thin air.\n",
    "\n",
    "Knowing this, you might expect that Norris (NOR) and Ricciardo (RIC) registering near the top of the speed trap here is a neat bit of trivia to brag about, but not actually helpful for winning races. At other tracks, you might even be right. But Monza is not a normal F1 track. It's the fastest circuit on the calendar, nicknamed \"The Temple of Speed\", which means it's the kind of place where a car that's decent in the corners and slippery in a straight line can cause some trouble.\n",
    "\n",
    "Lando and Daniel are *near* the top of this list, though, not *at* the top. If straight line speed is going to be their decisive advantage, they'll need to at least start ahead of the cars with higher top speeds than them."
   ]
  },
  {
   "cell_type": "markdown",
   "metadata": {},
   "source": [
    "![Alt text](images/Monza2021Grid.png)"
   ]
  },
  {
   "cell_type": "markdown",
   "metadata": {},
   "source": [
    "This is, to put it mildly, better than we expected. A strong showing from both drivers in the qualifying sessions and a lucky grid penalty for Mercedes' second driver Valtteri Bottas means the McLaren cars will line up P2 and P3, far and away their best starting positions so far this season.\n",
    "\n",
    "Nothing left to do now but start the race."
   ]
  },
  {
   "cell_type": "code",
   "execution_count": null,
   "metadata": {},
   "outputs": [],
   "source": [
    "# Now it's time to import our Monza *race* data from the fastf1 cache:\n",
    "year, grand_prix, session = 2021, 'Monza', 'R'\n",
    "\n",
    "race = ff1.get_session(year, grand_prix, session)\n",
    "race.load()"
   ]
  },
  {
   "cell_type": "code",
   "execution_count": null,
   "metadata": {},
   "outputs": [],
   "source": [
    "# Next, we'll specify the drivers we care about: Ricciardo, Norris, Hamilton, and Verstappen\n",
    "driver_1, driver_2, driver_3, driver_4 = 'RIC', 'NOR', 'HAM', 'VER'\n",
    "\n",
    "# Next, we need to convert our drivers' laptimes from the `timedelta` datatype into floats so that we can chart them. \n",
    "race.laps['LapTimeSeconds'] = race.laps['LapTime'].dt.total_seconds()\n",
    "\n",
    "# We'll also trim the in- and out-laps from our dataframe as they skew the overall pace.\n",
    "laps = race.laps.loc[(race.laps['PitOutTime'].isnull() & race.laps['PitInTime'].isnull())]"
   ]
  },
  {
   "cell_type": "code",
   "execution_count": null,
   "metadata": {},
   "outputs": [],
   "source": [
    "drivers_to_visualize = ['RIC', 'NOR', 'HAM', 'VER']\n",
    "visualized_teams = []\n",
    "\n",
    "plt.rcParams['figure.figsize'] = [16, 12]\n",
    "\n",
    "fig, ax = plt.subplots()\n",
    "\n",
    "for driver in drivers_to_visualize:\n",
    "    driver_laps = race.laps.pick_driver(driver)[['LapNumber', 'LapTimeSeconds', 'Team']]\n",
    "    \n",
    "    # Select all the laps from that driver\n",
    "    driver_laps = driver_laps.dropna()\n",
    "    \n",
    "    # Get their team for coloring purploses\n",
    "    team = pd.unique(driver_laps['Team'])[0]\n",
    "    \n",
    "    # The formation lap is counted as \"Lap 1\" in the data, so we subtract it from the count\n",
    "    x = driver_laps['LapNumber'] - 1\n",
    "\n",
    "    # Create a rolling average of laptimes\n",
    "    # y = driver_laps['LapTimeSeconds'].rolling(3, center=True).mean()\n",
    "    y = driver_laps['LapTimeSeconds']\n",
    "    \n",
    "    # To ensure teammates' lines are distinct\n",
    "    linestyle = '-' if team not in visualized_teams else ':'\n",
    "    \n",
    "    ax.plot(x, y, label=driver, color=ff1.plotting.team_color(team), linestyle=linestyle, linewidth=1.5)\n",
    "    ax.set(ylabel = 'Laptime (sec)')\n",
    "    ax.set(xlabel = 'Lap Number')\n",
    "    ax.set_xlim(1, 22)\n",
    "    ax.set_ylim(84, 90)\n",
    "    ax.set_title('Monza 2021 Stint 1 (P1-4)')\n",
    "    ax.legend()\n",
    "    \n",
    "    # Add the team to the visualized teams variable so that the next time the linestyle will be different\n",
    "    visualized_teams.append(team)\n",
    "\n",
    "sc_yellow = '#ffca00'\n",
    "ax.axvspan(24, 30, color=sc_yellow, alpha=0.3)\n",
    "ax.axvspan(43, 44, color=sc_yellow, alpha=0.3)\n"
   ]
  },
  {
   "cell_type": "markdown",
   "metadata": {},
   "source": [
    "Ricciardo and Norris make great starts and wind up P1 and P3, ahead of Verstappen and Hamilton, respectively. As we can see, they're faster than their opponents just as often as slower *on average* around a full lap, but crucially they retain their straight-line top speed advantage. This is a very close pair of races, but in both cases, our McLaren drivers are managing to fend off the WDC leaders in the two fastest cars on the grid. This is going to come down to the pitstops."
   ]
  },
  {
   "cell_type": "markdown",
   "metadata": {},
   "source": [
    "![Alt text](images/RBPitStop.jpg)"
   ]
  },
  {
   "cell_type": "markdown",
   "metadata": {},
   "source": [
    "In each F1 race, each driver is required to stop and change tires at least once. A Formula 1 pit stop is an intricate, choreographed dance between 20 or so mechanics that takes, if all goes to plan, [less than 3 seconds to complete](https://www.youtube.com/watch?v=BI75uWxEajA). It's also the most visible reason that, despite a driver's lonely position in the cockpit, F1 is still a team sport. A great stop can seal a victory in exactly the way that a terrible one can ruin it. And because the pit lane at each track has a speed limit, each stop will cost a driver between 20 and 30 seconds of race time, not including the stop itself. Because of this, teams prefer to stop only once per race - this minimizes both the amount of time their driver must make up on track and the chance of a costly error during the stop. \n",
    "\n",
    "All of this is to say that if you're Verstappen, running close behind Ricciardo but not close enough to make the pass, or Hamilton, not quite able to get the move done on Norris, you like your odds of getting ahead during the pit phase. After all, your team is famous for their stops."
   ]
  },
  {
   "cell_type": "markdown",
   "metadata": {},
   "source": [
    "![Alt text](images/DHLFastestPit.jpg)"
   ]
  },
  {
   "cell_type": "markdown",
   "metadata": {},
   "source": [
    "On the other hand, if you're driving an orange car, you're crossing your fingers in between each of the 40 or 50 gear changes you're pulling every lap. McLaren are decidedly *not* famous for their pit work. Nevertheless, you've got to stop sometime, and logistics usually dictate the lead driver comes in first. So on Lap 23, Ricciardo does.\n",
    "\n",
    "He's stationary for 2.4 seconds and in the pitlane for just under 24 total, an excellent stop by anyone's standards. Verstappen and Red Bull are forced to try and make a strategy called the \"overcut\" work, hoping they can wring more pace out of their old tires than Daniel can out of his new set, stop on the next lap, and emerge in front. A little over a minute later, Verstappen dives into the pitlane, and...\n",
    "\n",
    "It's a *disaster*. A problem with one of the wheel guns leaves him stationary for 11 seconds, Red Bull's longest stop of the season by a mile. By the time Verstappen drives back onto the main straight, he's been off the track for well over 30 seconds. From his new position in P10, he's got a *lot* of ground to make up."
   ]
  },
  {
   "cell_type": "markdown",
   "metadata": {},
   "source": [
    "![Alt text](images/HAMvNOR.jpg)"
   ]
  },
  {
   "cell_type": "markdown",
   "metadata": {},
   "source": [
    "Meanwhile, Norris has held off Hamilton as long as he can and the 7-time champion overtakes him on Lap 24. With nothing left to accomplish in his first stint, he pits the next time past the entrance. Somehow, the McLaren pit crew come through *again*, delivering a solid if unremarkable 2.7-second stop and getting him back onto the track ahead of Verstappen. Hamilton, like Verstappen, is forced to pit the lap after and, also like Verstappen, is held long by his pit crew. He's still for 4.2 seconds, meaning when he rejoins the race, he's just behind Norris and wheel-to-wheel with his championship rival Verstappen.\n",
    "\n",
    "These two have already clashed on track a few times this year, causing millions of dollars in damages and losing both of them dozens of championship points. It's fine, though, I'm sure they've learned their lesson."
   ]
  },
  {
   "cell_type": "markdown",
   "metadata": {},
   "source": [
    "![Alt text](images/HAMvVER0.jpg)"
   ]
  },
  {
   "cell_type": "markdown",
   "metadata": {},
   "source": [
    "![Alt text](images/HAMvVER1.jpg)"
   ]
  },
  {
   "cell_type": "markdown",
   "metadata": {},
   "source": [
    "![Alt text](images/HAMvVER2.jpg)"
   ]
  },
  {
   "cell_type": "markdown",
   "metadata": {},
   "source": [
    "I guess it really was too much to ask for.\n",
    "\n",
    "On the bright side, what's terrible news for the Mercedes and Red Bull teams is music to the ears of the McLaren engineers - their biggest threats for the win are now out of the race entirely. They instruct Norris not to race Ricciardo and hold position in P2, to ensure what happened to their rivals doesn't happen to them. The orange cars keep their competitors out of touching distance behind them for the remaining 27 laps and McLaren notch their first win since 2012 - and first 1-2 finish since 2010.\n",
    "\n",
    "You could say the team appreciated it."
   ]
  },
  {
   "cell_type": "markdown",
   "metadata": {},
   "source": [
    "![Ricciardo crosses the finish line](images/DannyFinish2.jpg)"
   ]
  },
  {
   "cell_type": "markdown",
   "metadata": {},
   "source": [
    "But let's take a step back. In the weeks to come, discussion of McLaren's success in Monza will be colored by the fact Ricciardo and Norris weren't forced to race Verstappen and Hamilton through the end of the final lap. They wind up finishing ahead of Verstappen and Hamilton's teammates (Sergio Perez and Valtteri Bottas, respectively) and both Ferrari drivers and both drivers set their fastest laps of the race on the 53rd and final lap, less than 0.2 of a second apart, indicating they had pace in reserve. \n",
    "\n",
    "If you've made it this far, though, you don't want to take my word for it - you want to see the data."
   ]
  },
  {
   "cell_type": "markdown",
   "metadata": {},
   "source": [
    "## Could McLaren Have Won Anyway?"
   ]
  },
  {
   "cell_type": "code",
   "execution_count": null,
   "metadata": {},
   "outputs": [],
   "source": [
    "# Here we'll use the same charting logic as before, expanded to cover all McLaren, Red Bull, Mercedes, and Ferrari drivers:\n",
    "drivers_to_visualize = ['RIC', 'NOR', 'HAM', 'BOT', 'VER', 'PER', 'LEC', 'SAI']\n",
    "visualized_teams = []\n",
    "plt.style.use('fivethirtyeight')\n",
    "plt.rcParams['figure.figsize'] = [16, 12]\n",
    "fig, ax = plt.subplots()\n",
    "\n",
    "for driver in drivers_to_visualize:\n",
    "    driver_laps = race.laps.pick_driver(driver)[['LapNumber', 'LapTimeSeconds', 'Team']]\n",
    "    driver_laps = driver_laps.dropna()\n",
    "    team = pd.unique(driver_laps['Team'])[0]\n",
    "    x = driver_laps['LapNumber'] - 1\n",
    "    # Because of the jagged nature and dense distribution of these lines, we'll chart a 3-lap rolling average of their pace\n",
    "    y = driver_laps['LapTimeSeconds'].rolling(3, center=True).mean()\n",
    "    linestyle = '-' if team not in visualized_teams else ':'\n",
    "    ax.plot(x, y, label=driver, color=ff1.plotting.team_color(team), linestyle=linestyle, linewidth=1.5)\n",
    "    ax.set(ylabel = 'Laptime (sec)')\n",
    "    ax.set(xlabel = 'Lap Number')\n",
    "    ax.set_xlim(1, 54)\n",
    "    ax.set_ylim(85, 88.5)\n",
    "    ax.set_title(\"Monza 2021 Potential Winners' Pace\")\n",
    "    ax.legend()\n",
    "    visualized_teams.append(team)\n",
    "\n",
    "# Highlight Safety Car & Virtual Safety Car laps in F1's Safety Car Yellow (toned down a bit) to highlight unrepresentative laptimes\n",
    "sc_yellow = '#ffca00'\n",
    "ax.axvspan(23, 31, color=sc_yellow, alpha=0.4)\n",
    "ax.axvspan(41, 45, color=sc_yellow, alpha=0.4)"
   ]
  },
  {
   "cell_type": "markdown",
   "metadata": {},
   "source": [
    "I've taken the liberty of creating a 3-lap rolling average of the featured drivers' laptimes as described above to make this chart a bit more legible, but the overall contour of laptimes decreasing after a tire change and toward the end of the race (as more and more of the 110 kg of fuel burns off and the car becomes lighter) are still clearly visible. The areas that stick out to me here are just after the first <font color=#F7DC77>**Safety Car**</font> period (shown in yellow - F1 uses these to greatly slow down drivers on track while a damaged or disabled car is recovered, hence the collective spikes in laptime) and the final stretch from the end of the second (Virtual) Safety Car period to the end.\n",
    "\n",
    "On Lap 31, as the race restarts with the field nose-to-tail, Norris immediately overtakes the Ferrari of Charles Leclerc (LEC) for P2 and follows Ricciardo up the road. Perez (PER) and Bottas (BOT) make great time for the first few laps on their fresh tires, but are preoccupied with racing the Ferraris of Leclerc and Sainz (SAI) in their midst and don't close up to the McLarens until Lap 38, at which point they use up the grip in their tires and precious spare fuel scrapping over P3. Though they keep the McLarens in sight, they are unable to break away from one another and therefore unable to mount a serious attempt at an overtake.\n",
    "\n",
    "On Lap 45, as the race gets going again with gaps between cars intact, the incentive to conserve fuel and tires is all but gone for the drivers we're following. The teams will have planned their strategies around 53 full laps of racing, meaning each slower lap behind the Safety Car gives them fuel and tire life they weren't expecting to have. It's a dash to the line at this point, and we see the McLarens open it up for the first time. They're consistently faster than their opponents and, as I mentioned before, still have enough left in the tank to set the 1st- and 2nd-fastest laps of the race on the final lap."
   ]
  },
  {
   "cell_type": "markdown",
   "metadata": {},
   "source": [
    "![Ricciardo and Norris in the #1 and #2 spots in parc ferme](images/Monza2021ParcFerme.jpg)"
   ]
  },
  {
   "cell_type": "markdown",
   "metadata": {},
   "source": [
    "Finishing P1 and P2 in an F1 qualifying session is referred to as a \"front row lockout\" and is nearly as sought after as a 1-2 finish - it allows that team to start with both cars in the lead, manage the race, and work together to maintain their position. McLaren effectively created this position for themselves mid-race, which could only help their chances of carrying it across the line. \n",
    "\n",
    "My (admittedly biased) opinion is that, given this and their straight-line advantage, a McLaren car would have crossed the finish line first with or without that crash. And it's a lucky thing, too, otherwise we might never have seen team principal Zak Brown engaging in Ricciardo's Australian victory tradition:"
   ]
  },
  {
   "cell_type": "markdown",
   "metadata": {},
   "source": [
    "![Zak Brown doing a shoey on the Monza 2021 podium](images/Monza2021Podium.jpeg)"
   ]
  }
 ],
 "metadata": {
  "kernelspec": {
   "display_name": "Python 3 (ipykernel)",
   "language": "python",
   "name": "python3"
  },
  "language_info": {
   "codemirror_mode": {
    "name": "ipython",
    "version": 3
   },
   "file_extension": ".py",
   "mimetype": "text/x-python",
   "name": "python",
   "nbconvert_exporter": "python",
   "pygments_lexer": "ipython3",
   "version": "3.9.15"
  },
  "vscode": {
   "interpreter": {
    "hash": "a825035ee43ec546d90825723aaeff23e650536d376a2475356dae38bf1201dc"
   }
  }
 },
 "nbformat": 4,
 "nbformat_minor": 2
}
